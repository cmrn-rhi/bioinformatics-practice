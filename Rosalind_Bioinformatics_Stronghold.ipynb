{
  "nbformat": 4,
  "nbformat_minor": 0,
  "metadata": {
    "colab": {
      "name": "Rosalind - Bioinformatics Stronghold.ipynb",
      "version": "0.3.2",
      "provenance": [],
      "toc_visible": true,
      "include_colab_link": true
    },
    "kernelspec": {
      "name": "python3",
      "display_name": "Python 3"
    }
  },
  "cells": [
    {
      "cell_type": "markdown",
      "metadata": {
        "id": "view-in-github",
        "colab_type": "text"
      },
      "source": [
        "<a href=\"https://colab.research.google.com/github/cmrn-rhi/bioinformatics-practice/blob/master/Rosalind_Bioinformatics_Stronghold.ipynb\" target=\"_parent\"><img src=\"https://colab.research.google.com/assets/colab-badge.svg\" alt=\"Open In Colab\"/></a>"
      ]
    },
    {
      "cell_type": "markdown",
      "metadata": {
        "id": "j-qmRXLGg55q",
        "colab_type": "text"
      },
      "source": [
        "*Rhiannon Cameron - [Rosalind Profile](http://rosalind.info/users/cmrn-rhi/)*\n",
        "\n",
        "*Python 3*"
      ]
    },
    {
      "cell_type": "markdown",
      "metadata": {
        "id": "HuN1QMZug2fN",
        "colab_type": "text"
      },
      "source": [
        "# Bioinformatics Stronghold\n",
        "Learning bioinformatics and programming through problem solving"
      ]
    },
    {
      "cell_type": "markdown",
      "metadata": {
        "id": "90pldazEhW0K",
        "colab_type": "text"
      },
      "source": [
        "## Counting DNA Libraries\n",
        "\n",
        "\n",
        "\n"
      ]
    },
    {
      "cell_type": "markdown",
      "metadata": {
        "id": "H8RQYwqnjbMb",
        "colab_type": "text"
      },
      "source": [
        "[Problem](http://rosalind.info/problems/dna/)\n",
        "\n",
        "A string is simply an ordered collection of symbols selected from some alphabet and formed into a word; the length of a string is the number of symbols that it contains.\n",
        "\n",
        "An example of a length 21 DNA string (whose alphabet contains the symbols 'A', 'C', 'G', and 'T') is \"ATGCTTCAGAAAGGTCTTACG.\"\n",
        "\n",
        "**Given:** A DNA string s of length at most 1000 nt.\n",
        "\n",
        "**Return:** Four integers (separated by spaces) counting the respective number of times that the symbols 'A', 'C', 'G', and 'T' occur in s.\n",
        "\n",
        "<h4> Sample Dataset </h4>\n",
        "\n",
        "```\n",
        "AGCTTTTCATTCTGACTGCAACGGGCAATATGTCTCTGTGTGGATTAAAAAAAGAGTGTCTGATAGCAGC\n",
        "```\n",
        "\n",
        "<h4> Sample Output </h4>\n",
        "\n",
        "```\n",
        "20 12 17 21\n",
        "```\n"
      ]
    },
    {
      "cell_type": "markdown",
      "metadata": {
        "id": "L9Dkm4q66jQe",
        "colab_type": "text"
      },
      "source": [
        "<h4> Version 1 </h4>"
      ]
    },
    {
      "cell_type": "code",
      "metadata": {
        "id": "UHakkLukknXy",
        "colab_type": "code",
        "colab": {}
      },
      "source": [
        "import collections\n",
        "\n",
        "def dna_nuc_count(dna_string):\n",
        "  \"\"\"\n",
        "  DNA Nucleotide Count\n",
        "  \n",
        "  Given: A DNA string s of length at most 1000 nt.\n",
        "  Return: Four integers (separated by spaces) counting the respective number of\n",
        "          times that symbols 'A','C','G', and 'T' occur in s.\n",
        "  \"\"\"\n",
        "  # ensure incoming data are all uppercase\n",
        "  dna_string.upper()\n",
        "  \n",
        "  # create orderws dictionary to ensure correct output order\n",
        "  dna_dict = collections.OrderedDict()\n",
        "  dna_dict['A'] = 0\n",
        "  dna_dict['C'] = 0\n",
        "  dna_dict['G'] = 0\n",
        "  dna_dict['T'] = 0\n",
        "  \n",
        "  # count nucleotides and store associated count in dictionary\n",
        "  for nucleotide in dna_string:\n",
        "      dna_dict[nucleotide] += 1\n",
        "  \n",
        "  # return nucleotide counts separated by spaces\n",
        "  return ' '.join([str(i) for i in dna_dict.values()])\n",
        "  \n",
        "  \n",
        "  \"\"\"\n",
        "  Alternative Ouput\n",
        "  Returns nucleotide counts separated by spaces; better format for inputing\n",
        "          parameters in future functions. Works with unordered Dictionary.\n",
        "  \n",
        "  \"\"\"\n",
        "  # return dna_dict['A'], dna_dict['C'], dna_dict['G'], dna_dict['T']"
      ],
      "execution_count": 0,
      "outputs": []
    },
    {
      "cell_type": "code",
      "metadata": {
        "id": "93eLqlb1m3gk",
        "colab_type": "code",
        "colab": {}
      },
      "source": [
        "# Sample Dataset Test\n",
        "\n",
        "test_string = 'AGCTTTTCATTCTGACTGCAACGGGCAATATGTCTCTGTGTGGATTAAAAAAAGAGTGTCTGATAGCAGC'\n",
        "dna_nuc_count(test_string)"
      ],
      "execution_count": 0,
      "outputs": []
    },
    {
      "cell_type": "code",
      "metadata": {
        "id": "o8vcGKQDzgCz",
        "colab_type": "code",
        "colab": {}
      },
      "source": [
        "# Dataset Test\n",
        "\n",
        "test_string = 'GAAGGAATGGGCTCATGCTGGTTTGCCCAACGGCTCCTCAACATGAAAGCCTGAAGTACACGTGAGATATATACCATTCCATACGCACCCGCGTACCGGGCATGGGAGTACAACCTGACGGCTCCGGCCGTGAGATCGGGTCATCTTGGCAGTGACACTAGGATGTTACAGGGTTAACGGACAGTTTGAACGCAGCTGTGATGGCGGCGAGCAATGAACTCAATCCATCACGAGTCACCTGGGTTAAACGGAGTATAAAGCTACTTCCGTCGGACTGGTCTTGTGGTCTGAGAAAATTGGATCGTCCGGCGAGACTAGTCCGGTACTCGAGTTAGGGTTCGCATTCCCGGGCTTTCCTCAGAGGGCTCACTACCTAGTGAACTTAGGAAGATCTACTCTGTGCGGCGTGTCAATTAGACAATGCTTTATGGAACGGGGCACTGGACAATTAGTGGTAAAAACTGAATCGCCCCCACGTGAAACTGCTCACGCTACATGCTGAATTGTTAACCCCTATAACAGTCTCTGTCAGGACTAGAACGGCTGGCGATCATATCCGGCGACGACTTTGCTCTCGTTTCAGAGGTATTGATCCTGCAGGCAGAAGGCGACCCCCGATTTTCATTCCTTTCCTGGTGTCATTTTGCTCAATATGGTATGATATAAGGTAGATGCGAATGTGTCTATATGTTGTCGAGCGCGCTTAGCCATTCGGTCACGCGTATTGACCATGGTTCGTCTAGATCATCACCCTCTCATAAGAGGAATGCCCCGGCAAGCAAGGGTGTCGCGTTTAGGGAGACTTTGTTGCCATAGCACGTGGAGAGAGTAAGAGGGGAAGCGCATAAGCGGGTGCTACGACCCGAAGCTGTCTCGGATGGCTATGTATCCTGGGGTAGGGACAGTAGAAAAGCGTGTAATGGCCGATACATCAGTCGCAATCCCGGGGCGTAGCTCTCGATAACTCTCCT'\n",
        "dna_nuc_count(test_string)"
      ],
      "execution_count": 0,
      "outputs": []
    },
    {
      "cell_type": "code",
      "metadata": {
        "id": "7391Ar7aw5ec",
        "colab_type": "code",
        "colab": {}
      },
      "source": [
        "# Dataset Test - From File\n",
        "\n",
        "with open('rosalind_dna.txt') as infile:\n",
        "  test_string = infile.readline()\n",
        "  test_string_clean = test_string.rstrip('\\n')\n",
        "  print(dna_nuc_count(test_string_clean))"
      ],
      "execution_count": 0,
      "outputs": []
    },
    {
      "cell_type": "markdown",
      "metadata": {
        "id": "WGGlbsB96mhE",
        "colab_type": "text"
      },
      "source": [
        "<h4> Version 2 (Better) </h4>"
      ]
    },
    {
      "cell_type": "code",
      "metadata": {
        "id": "uZ8FG99658-M",
        "colab_type": "code",
        "colab": {}
      },
      "source": [
        "def dna_nuc_count2(dna):\n",
        "  \"\"\"\n",
        "  DNA Nucleotide Count v2\n",
        "  \n",
        "  Given: A DNA string s of length at most 1000 nt.\n",
        "  Return: Four integers (separated by spaces) counting the respective number of\n",
        "          times that symbols 'A','C','G', and 'T' occur in s.\n",
        "  \"\"\"\n",
        "  return dna.count(\"A\"), dna.count(\"G\"), dna.count(\"C\"), dna.count(\"T\")"
      ],
      "execution_count": 0,
      "outputs": []
    },
    {
      "cell_type": "markdown",
      "metadata": {
        "id": "BgPTt3l46q-p",
        "colab_type": "text"
      },
      "source": [
        "<h4> Version 3 (Simple) </h4>"
      ]
    },
    {
      "cell_type": "code",
      "metadata": {
        "id": "8D4_tDu-6_o5",
        "colab_type": "code",
        "colab": {}
      },
      "source": [
        "\n",
        "print(*map(input().count, \"ACGT\"))"
      ],
      "execution_count": 0,
      "outputs": []
    },
    {
      "cell_type": "markdown",
      "metadata": {
        "id": "axnALBkR7-Id",
        "colab_type": "text"
      },
      "source": [
        "## Transcribing DNA into RNA\n"
      ]
    },
    {
      "cell_type": "markdown",
      "metadata": {
        "id": "9Hka60fW8FlN",
        "colab_type": "text"
      },
      "source": [
        "[Problem](http://rosalind.info/problems/rna/)\n",
        "\n",
        "An RNA string is a string formed from the alphabet containing 'A', 'C', 'G', and 'U'.\n",
        "\n",
        "Given a DNA string t corresponding to a coding strand, its transcribed RNA string u is formed by replacing all occurrences of 'T' in t with 'U' in u.\n",
        "\n",
        "**Given:** A DNA string t having length at most 1000 nt.\n",
        "\n",
        "**Return:** The transcribed RNA string of t.\n",
        "\n",
        "**Sample Dataset**\n",
        "\n",
        "\n",
        "```\n",
        "GATGGAACTTGACTACGTAAATT\n",
        "```\n",
        "\n",
        "\n",
        "**Sample Output**\n",
        "\n",
        "\n",
        "```\n",
        "GAUGGAACUUGACUACGUAAAUU\n",
        "```\n",
        "\n"
      ]
    },
    {
      "cell_type": "markdown",
      "metadata": {
        "id": "ODcLFD1YFZlg",
        "colab_type": "text"
      },
      "source": [
        "<h4> Version 1 </h4>"
      ]
    },
    {
      "cell_type": "code",
      "metadata": {
        "id": "htX3Hk0eBZKH",
        "colab_type": "code",
        "colab": {}
      },
      "source": [
        "def dna_to_rna(dna_string):\n",
        "  \"\"\"\n",
        "  Given: a DNA string, having length of at most 1000 nt.\n",
        "  Return: the transcribed RNA string.\n",
        "  \n",
        "  \"\"\"\n",
        "  rna_string = ''\n",
        "  \n",
        "  for nucleotide in dna_string:\n",
        "    if nucleotide == 'T':\n",
        "      rna_string += 'U'\n",
        "    else:\n",
        "      rna_string += nucleotide\n",
        "      \n",
        "  return rna_string"
      ],
      "execution_count": 0,
      "outputs": []
    },
    {
      "cell_type": "code",
      "metadata": {
        "id": "gLb2A__wDA5u",
        "colab_type": "code",
        "colab": {}
      },
      "source": [
        "# Sample Dataset Test\n",
        "\n",
        "test_string = 'GATGGAACTTGACTACGTAAATT'\n",
        "dna_to_rna(test_string)"
      ],
      "execution_count": 0,
      "outputs": []
    },
    {
      "cell_type": "code",
      "metadata": {
        "id": "oYVcp_sODRlA",
        "colab_type": "code",
        "colab": {}
      },
      "source": [
        "# Dataset Test\n",
        "\n",
        "dna_to_rna(input())"
      ],
      "execution_count": 0,
      "outputs": []
    },
    {
      "cell_type": "markdown",
      "metadata": {
        "id": "7GcOiUHVFpcO",
        "colab_type": "text"
      },
      "source": [
        "<h4> Version 2 </h4>"
      ]
    },
    {
      "cell_type": "code",
      "metadata": {
        "id": "JSl4lxkDE9nW",
        "colab_type": "code",
        "colab": {}
      },
      "source": [
        "# User Input\n",
        "\n",
        "dna_string = input()\n",
        "print(dna_string.replace(\"T\", \"U\"))"
      ],
      "execution_count": 0,
      "outputs": []
    },
    {
      "cell_type": "code",
      "metadata": {
        "id": "Ru8BHjyDGUom",
        "colab_type": "code",
        "outputId": "2367c8a9-cc74-47cf-f208-1db10153cc89",
        "colab": {
          "base_uri": "https://localhost:8080/",
          "height": 71
        }
      },
      "source": [
        "# From File\n",
        "\n",
        "with open('rosalind_rna.txt') as infile:\n",
        "  print(infile.read().replace(\"T\", \"U\"))"
      ],
      "execution_count": 0,
      "outputs": [
        {
          "output_type": "stream",
          "text": [
            "UAUUUGCUAACCAUAGACCGAGAAGUCAACAAAUCGUGAAGCGUGACUAUUUCGGGCGCUACUUCACCCCGACGCCCGGCAUUUCACGCUUGGUGUGUACUACCACGGGGCCGCGGCGGAAUCCCACGCGGAGCUAACCCGUUGGGAUCAUGCAUGCGCCUCUCGGUGGUCAACGGAUGAACUAGUACACCGUCGACGUAAACAAGCUUAUCGCUACCUGGAGGAUUACUGCUGAACUAGUAAACCGGUACCCGGUAAGCCGAAUGCCUGUGAUCGAUGAGUUCUGGGUGUGCAGGAAGUACAUCGGUUAAAGUCUUGGCAGACAACUACCUUAUUUGUCCCCCAGGUGGAAUUACGAGGUGAGGCACUGACGGUAUAACAAGGAAGAGCAAUCAUUUUACACCGGACCUGUGGCCAACACCAAGGCACAGCAGUAUGCGGGAAUGACGCAAAGUCUUUGCACGAGACGGGCAAGCAGUGGCUGUAAAGUUGGACACAGUUGACUACAUUAGAGAUCUAAUACGCGUUCCAUAUCCGACUGGAGCUGGCUAAACAGGUAGAACACAUCGGCCAUUAGCAGAAGCUGUUGAAUUUGGAUCUAAUCCAAAACUAAACUCCAGUUAUGAACUCCCAAAUGAACACAACUCUCGGCGCCCAGUAGAAAUUCGUGCCUCAUUGUUCGGCGCUUGGUACACGUCGGGGCCUGGUGAGUAGUAUAGAUUUGCGCUCGUACAUUACUUCCCGCGCCGCGGGGAGAGUUUUAAAACGUGGUCUACUUGGGAUCUGAGCCUGAUAUGAAAUGGGAGAUGACAUCAGUGUACGGCGCAGCCGCACACGUCAGAAACGAAUAACUUUUUCGUAGCGCCAUUUGCCAAAGGGCUGAUUGUUGAUUGAGGAGCUCAAUCGUAUUGUAAGUCACUUGACAGCCCCUGCCUCUGGA\n",
            "\n"
          ],
          "name": "stdout"
        }
      ]
    },
    {
      "cell_type": "markdown",
      "metadata": {
        "id": "dl2frkH3F9Ge",
        "colab_type": "text"
      },
      "source": [
        "<h4> Version - Bash </h4>\n",
        "\n",
        "`tr T U < rosalind_rna.txt`"
      ]
    },
    {
      "cell_type": "markdown",
      "metadata": {
        "id": "O1Awf-x9G9wZ",
        "colab_type": "text"
      },
      "source": [
        "## Complementing a Strand of DNA"
      ]
    },
    {
      "cell_type": "markdown",
      "metadata": {
        "id": "J1ETi4Z3HRT-",
        "colab_type": "text"
      },
      "source": [
        "[Problem](http://rosalind.info/problems/revc/)\n",
        "\n",
        "In DNA strings, symbols 'A' and 'T' are complements of each other, as are 'C' and 'G'.\n",
        "\n",
        "The reverse complement of a DNA string s is the string sc formed by reversing the symbols of s, then taking the complement of each symbol (e.g., the reverse complement of \"GTCA\" is \"TGAC\").\n",
        "\n",
        "**Given:** A DNA string s of length at most 1000 bp.\n",
        "\n",
        "**Return:** The reverse complement sc of s.\n",
        "\n",
        "**Sample Dataset**\n",
        "\n",
        "\n",
        "```\n",
        "AAAACCCGGT\n",
        "```\n",
        "\n",
        "\n",
        "**Sample Output**\n",
        "\n",
        "\n",
        "```\n",
        "ACCGGGTTTT\n",
        "```\n",
        "\n"
      ]
    },
    {
      "cell_type": "markdown",
      "metadata": {
        "id": "oXhAFqoHNDJ5",
        "colab_type": "text"
      },
      "source": [
        "<h4> Version 1 </h4>"
      ]
    },
    {
      "cell_type": "code",
      "metadata": {
        "id": "Vk6jmw8jHTDS",
        "colab_type": "code",
        "colab": {}
      },
      "source": [
        "def dna_rev_comp(dna_str):\n",
        "  \"\"\"\n",
        "  DNA Reverse Complement\n",
        "  \n",
        "  Given: a DNA string (dna_str) of length at most 1000 bp.\n",
        "  Return: the reverse complement (rev_comp) of the DNA string.\n",
        "  \"\"\"\n",
        "  \n",
        "  # t & c temporarily hold positions; t will become T and c will become C\n",
        "  temp_str = dna_str.replace(\"A\", \"t\").replace(\"G\", \"c\")\n",
        "  temp_str2 = temp_str.replace(\"T\", \"A\").replace(\"C\", \"G\")\n",
        "  comp_str = temp_str2.replace(\"t\", \"T\").replace(\"c\", \"C\")\n",
        "  \n",
        "  return comp_str[::-1]"
      ],
      "execution_count": 0,
      "outputs": []
    },
    {
      "cell_type": "code",
      "metadata": {
        "id": "eEUNujRuKJIg",
        "colab_type": "code",
        "colab": {}
      },
      "source": [
        "# Sample Dataset Test\n",
        "\n",
        "test_string = 'AAAACCCGGT'\n",
        "dna_rev_comp(test_string)"
      ],
      "execution_count": 0,
      "outputs": []
    },
    {
      "cell_type": "code",
      "metadata": {
        "id": "Y93bAOn7I0OI",
        "colab_type": "code",
        "colab": {}
      },
      "source": [
        "# From File\n",
        "\n",
        "with open('rosalind_revc.txt') as infile:\n",
        "  print(dna_rev_comp(infile.read()))"
      ],
      "execution_count": 0,
      "outputs": []
    },
    {
      "cell_type": "markdown",
      "metadata": {
        "id": "_zy1u-4qNHto",
        "colab_type": "text"
      },
      "source": [
        "<h4> Version 2 (Better) </h4>"
      ]
    },
    {
      "cell_type": "code",
      "metadata": {
        "id": "UzzwRwxNNMHw",
        "colab_type": "code",
        "colab": {}
      },
      "source": [
        "def dna_rev_comp2(dna_str):\n",
        "  \"\"\"\n",
        "  DNA Reverse Complement v2\n",
        "  \n",
        "  Given: a DNA string (dna_str) of length at most 1000 bp.\n",
        "  Return: the reverse complement (rev_comp) of the DNA string.\n",
        "  \"\"\"\n",
        "  \n",
        "  # t & c temporarily hold positions; t will become T and c will become C\n",
        "  comp_str = dna_str.replace(\"A\", \"t\").replace(\"G\", \"c\").replace(\"T\", \"A\")\\\n",
        "             .replace(\"C\", \"G\").replace(\"t\", \"T\").replace(\"c\", \"C\")\n",
        "  \n",
        "  return comp_str[::-1]"
      ],
      "execution_count": 0,
      "outputs": []
    },
    {
      "cell_type": "markdown",
      "metadata": {
        "id": "RQTumX4_N2MW",
        "colab_type": "text"
      },
      "source": [
        "<h4> Version 3 (Best) </h4>"
      ]
    },
    {
      "cell_type": "code",
      "metadata": {
        "id": "zIE2eKnAN46f",
        "colab_type": "code",
        "colab": {}
      },
      "source": [
        "def dna_rev_comp3(dna_str):\n",
        "  \"\"\"\n",
        "  DNA Reverse Complement v3\n",
        "  \n",
        "  Given: a DNA string (dna_str) of length at most 1000 bp.\n",
        "  Return: the reverse complement (rev_comp) of the DNA string.\n",
        "  \"\"\"\n",
        "  comp_str = { \"A\" : \"T\", \"C\" : \"G\", \"G\" : \"C\", \"T\" : \"A\" }\n",
        "\n",
        "  return \"\".join([comp_str[n] for n in dna_str][::-1])"
      ],
      "execution_count": 0,
      "outputs": []
    },
    {
      "cell_type": "markdown",
      "metadata": {
        "id": "2U2BAeAnLyxo",
        "colab_type": "text"
      },
      "source": [
        "## Rabbits & Recurrence Relations"
      ]
    },
    {
      "cell_type": "markdown",
      "metadata": {
        "id": "neKfDXuXL7KN",
        "colab_type": "text"
      },
      "source": [
        "[Problem](http://rosalind.info/problems/fib/)\n",
        "\n",
        "A sequence is an ordered collection of objects (usually numbers), which are allowed to repeat. Sequences can be finite or infinite.\n",
        "\n",
        "A recurrence relation is a way of defining the terms of a sequence with respect to the values of previous terms. In the case of Fibonacci's rabbits from the introduction, any given month will contain the rabbits that were alive the previous month, plus any new offspring. A key observation is that the number of offspring in any month is equal to the number of rabbits that were alive two months prior. As a result, if Fn represents the number of rabbit pairs alive after the n-th month, then we obtain the Fibonacci sequence having terms Fn that are defined by the recurrence relation Fn=Fn−1+Fn−2 (with F1=F2=1 to initiate the sequence).\n",
        "\n",
        "When finding the n-th term of a sequence defined by a recurrence relation, we can simply use the recurrence relation to generate terms for progressively larger values of n. This problem introduces us to the computational technique of dynamic programming, which successively builds up solutions by using the answers to smaller cases.\n",
        "\n",
        "**Given:** Positive integers n≤40 and k≤5.\n",
        "\n",
        "**Return:** The total number of rabbit pairs that will be present after n months, if we begin with 1 pair and in each generation, every pair of reproduction-age rabbits produces a litter of k rabbit pairs (instead of only 1 pair).\n",
        "\n",
        "**Sample Dataset**\n",
        "\n",
        "\n",
        "```\n",
        "5 3\n",
        "```\n",
        "\n",
        "\n",
        "**Sample Output**\n",
        "\n",
        "\n",
        "```\n",
        "19\n",
        "```\n",
        "\n"
      ]
    },
    {
      "cell_type": "code",
      "metadata": {
        "id": "jYKOhcEKM6aW",
        "colab_type": "code",
        "colab": {}
      },
      "source": [
        "def fib_recur(n, k):\n",
        "  \"\"\"\n",
        "  Fibonacci Recursion\n",
        "  \n",
        "  Given: Positive integers n <= 40 and K <= 5\n",
        "    n = months\n",
        "    k = rabbit pairs\n",
        "  Return: the total number of rabbit pairs that will be present after n months,\n",
        "          if we begin with 1 pair and in each generation, every pair of \n",
        "          reproduction-age rabbits produces a litter of k rabbits.\n",
        "  \"\"\"\n",
        "  # Case for when pair matures and is not yet producing offspring\n",
        "  if n == 0 or n == 1:\n",
        "    return n\n",
        "  # Case for when mature pair produces offspring, adjusted for k\n",
        "  else:\n",
        "    return fib_recur(n-1, k) + fib_recur(n-2, k)*k\n",
        " "
      ],
      "execution_count": 0,
      "outputs": []
    },
    {
      "cell_type": "code",
      "metadata": {
        "id": "HTGvlC6HRhB6",
        "colab_type": "code",
        "outputId": "d1063adb-cb40-4f8a-d475-a98144a12d0a",
        "colab": {
          "base_uri": "https://localhost:8080/",
          "height": 34
        }
      },
      "source": [
        "fib_recur(29, 5)"
      ],
      "execution_count": 0,
      "outputs": [
        {
          "output_type": "execute_result",
          "data": {
            "text/plain": [
              "1850229480761"
            ]
          },
          "metadata": {
            "tags": []
          },
          "execution_count": 41
        }
      ]
    },
    {
      "cell_type": "markdown",
      "metadata": {
        "id": "g1QINS8qVVtw",
        "colab_type": "text"
      },
      "source": [
        "## Computing GC Content"
      ]
    },
    {
      "cell_type": "markdown",
      "metadata": {
        "id": "TRcB0R2pZGT_",
        "colab_type": "text"
      },
      "source": [
        "[Problem](http://rosalind.info/problems/gc/)\n",
        "\n",
        "The GC-content of a DNA string is given by the percentage of symbols in the string that are 'C' or 'G'. For example, the GC-content of \"AGCTATAG\" is 37.5%. Note that the reverse complement of any DNA string has the same GC-content.\n",
        "\n",
        "DNA strings must be labeled when they are consolidated into a database. A commonly used method of string labeling is called FASTA format. In this format, the string is introduced by a line that begins with '>', followed by some labeling information. Subsequent lines contain the string itself; the first line to begin with '>' indicates the label of the next string.\n",
        "\n",
        "In Rosalind's implementation, a string in FASTA format will be labeled by the ID \"Rosalind_xxxx\", where \"xxxx\" denotes a four-digit code between 0000 and 9999.\n",
        "\n",
        "Given: At most 10 DNA strings in FASTA format (of length at most 1 kbp each).\n",
        "\n",
        "Return: The ID of the string having the highest GC-content, followed by the GC-content of that string. Rosalind allows for a default error of 0.001 in all decimal answers unless otherwise stated; please see the note on absolute error below.\n",
        "\n",
        "**Sample Dataset**\n",
        "\n",
        "\n",
        "```\n",
        ">Rosalind_6404\n",
        "CCTGCGGAAGATCGGCACTAGAATAGCCAGAACCGTTTCTCTGAGGCTTCCGGCCTTCCC\n",
        "TCCCACTAATAATTCTGAGG\n",
        ">Rosalind_5959\n",
        "CCATCGGTAGCGCATCCTTAGTCCAATTAAGTCCCTATCCAGGCGCTCCGCCGAAGGTCT\n",
        "ATATCCATTTGTCAGCAGACACGC\n",
        ">Rosalind_0808\n",
        "CCACCCTCGTGGTATGGCTAGGCATTCAGGAACCGGAGAACGCTTCAGACCAGCCCGGAC\n",
        "TGGGAACCTGCGGGCAGTAGGTGGAAT\n",
        "```\n",
        "\n",
        "\n",
        "**Sample Output**\n",
        "\n",
        "\n",
        "\n",
        "```\n",
        "Rosalind_0808\n",
        "60.919540\n",
        "```\n",
        "\n"
      ]
    },
    {
      "cell_type": "code",
      "metadata": {
        "id": "SsvOFBBtZXx3",
        "colab_type": "code",
        "colab": {}
      },
      "source": [
        "def gc_content(dna_strings)\n",
        "  \"\"\"\n",
        "  Computing GC Content\n",
        "  \n",
        "  Given: FASTA file containing <= 10 DNA strings (length <= 1kbp/string).\n",
        "  Return: DNA string ID with the highest GC-content, followed by the GC-content\n",
        "          of that string. Default error of 0.001.\n",
        "  \"\"\"\n",
        "  \n",
        "  # grab data/lines between \">\"\n",
        "  # grab data separated by \" \"\n",
        "    # first portion becomes dictionary key\n",
        "    # secon portion becomes dictionary value\n",
        "  # iterate through dictionary checking GC content in values\n",
        "    # keep record of ID with highest GC content\n",
        "  # return ID and value with highest GC content each on their own line. \n",
        "  \n",
        "  with open(dna_strings) as infasta:\n",
        "    string_text = infasta.readline()\n",
        "  "
      ],
      "execution_count": 0,
      "outputs": []
    },
    {
      "cell_type": "markdown",
      "metadata": {
        "id": "AeWhroqEoqlK",
        "colab_type": "text"
      },
      "source": [
        "<h4> Version 2 - BioPython </h4>"
      ]
    },
    {
      "cell_type": "code",
      "metadata": {
        "id": "eu2MrwUfdZex",
        "colab_type": "code",
        "colab": {}
      },
      "source": [
        "!pip install biopython # includes NumPy"
      ],
      "execution_count": 0,
      "outputs": []
    },
    {
      "cell_type": "code",
      "metadata": {
        "id": "i4y3fnEMob8B",
        "colab_type": "code",
        "colab": {}
      },
      "source": [
        "# import Bio\n",
        "from Bio import SeqIO"
      ],
      "execution_count": 0,
      "outputs": []
    },
    {
      "cell_type": "code",
      "metadata": {
        "id": "aZxaNLHzekaA",
        "colab_type": "code",
        "outputId": "4e76d295-1047-461c-fc3c-e0852b89a2dd",
        "colab": {
          "base_uri": "https://localhost:8080/",
          "height": 119
        }
      },
      "source": [
        "\n",
        "\n",
        "for seq_record in SeqIO.parse(\"rosalind_fasta_example.fasta\", \"fasta\"):\n",
        "  # print(seq_record.id)\n",
        "  # print(repr(seq_record.seq))\n",
        "  # print(len(seq_record))\n",
        "  nt_count = 0\n",
        "  gc_count = 0\n",
        "  gc_greatest = 0\n",
        "  \n",
        "  for nt in seq_record.seq:\n",
        "    \n",
        "    nt_count += 1\n",
        "    \n",
        "    if nt == 'G' or nt == 'C':\n",
        "      gc_count += 1\n",
        "      \n",
        "    gc_percent = (gc_count/nt_count)*100\n",
        "    \n",
        "    if gc_percent > gc_greatest:\n",
        "      gc_greatest = gc_percent\n",
        "      id_greatest = seq_record.id\n",
        "     \n",
        "  \n",
        "  print(id_greatest)\n",
        "  print(gc_greatest)\n",
        "    "
      ],
      "execution_count": 0,
      "outputs": [
        {
          "output_type": "stream",
          "text": [
            "Rosalind_6404\n",
            "100.0\n",
            "Rosalind_5959\n",
            "100.0\n",
            "Rosalind_0808\n",
            "100.0\n"
          ],
          "name": "stdout"
        }
      ]
    }
  ]
}