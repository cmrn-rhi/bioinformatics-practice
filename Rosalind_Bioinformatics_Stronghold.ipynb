{
  "nbformat": 4,
  "nbformat_minor": 0,
  "metadata": {
    "colab": {
      "name": "Rosalind - Bioinformatics Stronghold.ipynb",
      "version": "0.3.2",
      "provenance": [],
      "collapsed_sections": [
        "O1Awf-x9G9wZ",
        "2U2BAeAnLyxo",
        "g1QINS8qVVtw",
        "9-GLsAQT7S3F"
      ],
      "include_colab_link": true
    },
    "kernelspec": {
      "name": "python3",
      "display_name": "Python 3"
    }
  },
  "cells": [
    {
      "cell_type": "markdown",
      "metadata": {
        "id": "view-in-github",
        "colab_type": "text"
      },
      "source": [
        "<a href=\"https://colab.research.google.com/github/cmrn-rhi/bioinformatics-practice/blob/master/Rosalind_Bioinformatics_Stronghold.ipynb\" target=\"_parent\"><img src=\"https://colab.research.google.com/assets/colab-badge.svg\" alt=\"Open In Colab\"/></a>"
      ]
    },
    {
      "cell_type": "markdown",
      "metadata": {
        "colab_type": "text",
        "id": "KZERwqvMm4TV"
      },
      "source": [
        "## Mendel's First Law\n",
        "\n",
        "[Problem](http://rosalind.info/problems/iprb/)\n",
        "\n",
        "...\n",
        "\n",
        "Given: Three positive integers k, m, and n, representing a population containing k+m+n organisms: k individuals are homozygous dominant for a factor, m are heterozygous, and n are homozygous recessive.\n",
        "\n",
        "Return: The probability that two randomly selected mating organisms will produce an individual possessing a dominant allele (and thus displaying the dominant phenotype). Assume that any two organisms can mate.\n",
        "\n",
        "**Sample Dataset**\n",
        "\n",
        "\n",
        "```\n",
        "2 2 2\n",
        "```\n",
        "\n",
        "\n",
        "**Sample Output**\n",
        "\n",
        "\n",
        "```\n",
        "0.78333\n",
        "```\n",
        "\n"
      ]
    },
    {
      "cell_type": "markdown",
      "metadata": {
        "colab_type": "text",
        "id": "DeTzzphym4TU"
      },
      "source": [
        "**Version 1**  _- In Progress_"
      ]
    },
    {
      "cell_type": "code",
      "metadata": {
        "colab_type": "code",
        "id": "ILgZkrfpm4TR",
        "colab": {}
      },
      "source": [
        "def get_dominant_allele_prob(k,m,n):\n",
        "  \"\"\"\n",
        "  Given: three positive ints k, m, and n representing interfertile populations;\n",
        "         k = indiviuals homozygous for a factor.             (e.g. AA)\n",
        "         m = individuals heterozygous for a factor.          (e.g. Aa)\n",
        "         n = individuals homozygous recessive for a factor.  (e.g. aa)\n",
        "  Return: the probability that two randomly selected mating organisms will\n",
        "          produce an individual possessing a dominant allele.\n",
        "  \"\"\"\n",
        "  \n",
        "  # punnet square pairing dominant factor probabilities \n",
        "  # AA+AA = 1\n",
        "  # AA+Aa = 1\n",
        "  # AA+aa = 1\n",
        "  # Aa+Aa = 0.75\n",
        "  # Aa+aa = 0.5\n",
        "  # aa+aa = 0\n",
        "  \n",
        "  total = k + m + n\n",
        "  \n",
        "  # AA+AA event\n",
        "  kk_prob = (k/total) * ((k-1)/(total-1))\n",
        "  \n",
        "  # AA+Aa and Aa+AA events\n",
        "  km_prob = ((k/total)*(m/(total-1)) + ((m/total)*(k/(total-1))))\n",
        "  \n",
        "  # AA+aa and aa+AA event\n",
        "  kn_prob = ((k/total) * (n/(total-1)) + ((n/total) * (k/(total-1))))\n",
        "  \n",
        "  # Aa+Aa event\n",
        "  mm_prob = ((m/total) * ((m-1)/(total-1))) * 0.75\n",
        "  \n",
        "  # Aa+aa and aa+Aa event\n",
        "  mn_prob = ((m/total) * (n/(total-1)) + ((n/total) * (m/(total-1)))) * 0.5\n",
        "  \n",
        "  # aa+aa event\n",
        "  nn_prob = ((n/total) * (n/(total-1))) * 0\n",
        "  \n",
        "  return round(kk_prob + km_prob + kn_prob + mm_prob + mn_prob + nn_prob, 5)"
      ],
      "execution_count": 0,
      "outputs": []
    },
    {
      "cell_type": "code",
      "metadata": {
        "colab_type": "code",
        "id": "mkoQV58Gm4TM",
        "colab": {}
      },
      "source": [
        "get_dominant_allele_prob(28,19,15)"
      ],
      "execution_count": 0,
      "outputs": []
    },
    {
      "cell_type": "markdown",
      "metadata": {
        "colab_type": "text",
        "id": "ARB5zfmpm3t1"
      },
      "source": [
        "## Counting Point Mutations"
      ]
    },
    {
      "cell_type": "markdown",
      "metadata": {
        "colab_type": "text",
        "id": "VJGIcR5Am3t1"
      },
      "source": [
        "[Problem](http://rosalind.info/problems/hamm/)\n",
        "\n",
        "Given two strings s and t of equal length, the **Hamming distance** (the minimum number of symbol substitutions required to transform one string into the other) between s and t, denoted d<sub>H</sub>(s,t), is the number of corresponding symbols that differ in s and t. See Figure 2.\n",
        "<br />\n",
        "<br />\n",
        "\n",
        "![Figure 2.](http://rosalind.info/media/problems/hamm/Hamming_distance.png)\n",
        "\n",
        "<sub>Figure 2. The Hamming distance between these two strings is 7. Mismatched symbols are colored red.</sub>\n",
        "<br />\n",
        "<br />\n",
        "Given: Two DNA strings s and t of equal length (not exceeding 1 kbp).\n",
        "\n",
        "Return: The Hamming distance d<sub>H</sub>(s,t).\n",
        "<br />\n",
        "<br />\n",
        "\n",
        "**Sample Dataset**\n",
        "\n",
        "\n",
        "```\n",
        "GAGCCTACTAACGGGAT\n",
        "CATCGTAATGACGGCCT\n",
        "```\n",
        "\n",
        "\n",
        "**Sample Output**\n",
        "\n",
        "\n",
        "```\n",
        "7\n",
        "```\n",
        "\n"
      ]
    },
    {
      "cell_type": "markdown",
      "metadata": {
        "colab_type": "text",
        "id": "l6LbpSEPm3t0"
      },
      "source": [
        "**Version 1**"
      ]
    },
    {
      "cell_type": "code",
      "metadata": {
        "colab_type": "code",
        "id": "5aABCnWGm3ty",
        "colab": {}
      },
      "source": [
        "def calc_point_mutation(s,t):\n",
        "  \"\"\"\n",
        "  Counting Point Mutations\n",
        "  \n",
        "  Given: two DNA strings (A, C, G, T) s and t of equal length (<= 1kbp).\n",
        "  Return: the hamming distance (the minimum number of symbol substitutions\n",
        "          required to transform one string into the other) between s and t.\n",
        "          \n",
        "  pt_mut = point mutation; corresponding nucleotides differ between s and t.\n",
        "  \"\"\"\n",
        "  pt_mut = 0\n",
        "  \n",
        "  for nt in range(len(s)):\n",
        "    if s[nt] != t[nt]:\n",
        "      pt_mut += 1\n",
        "  \n",
        "  return pt_mut"
      ],
      "execution_count": 0,
      "outputs": []
    },
    {
      "cell_type": "code",
      "metadata": {
        "colab_type": "code",
        "id": "ITrNjgjfm3tw",
        "colab": {}
      },
      "source": [
        "#Sample Dataset\n",
        "\n",
        "calc_point_mutation('GAGCCTACTAACGGGAT','CATCGTAATGACGGCCT')"
      ],
      "execution_count": 0,
      "outputs": []
    },
    {
      "cell_type": "code",
      "metadata": {
        "colab_type": "code",
        "id": "DEUOQr_3m3tt",
        "colab": {}
      },
      "source": [
        "#Test Dataset - From File\n",
        "\n",
        "with open(\"rosalind_hamm.txt\", 'r') as infile:\n",
        "  data = infile.read()\n",
        "  # separate sequences by newlines\n",
        "  seqs = data.split(\"\\n\")\n",
        "\n",
        "calc_point_mutation(seqs[0],seqs[1])"
      ],
      "execution_count": 0,
      "outputs": []
    },
    {
      "cell_type": "markdown",
      "metadata": {
        "colab_type": "text",
        "id": "NU0O9LEhm3ts"
      },
      "source": [
        "**Version 2 (Better)**\n",
        "\n",
        "*'zip' iterates over tuples one at a time such that none of them remain in memory.*"
      ]
    },
    {
      "cell_type": "code",
      "metadata": {
        "colab_type": "code",
        "id": "5EDEIdIqm3tp",
        "colab": {}
      },
      "source": [
        "def calc_point_mutation2(s,t):\n",
        "  \"\"\"\n",
        "  Counting Point Mutations\n",
        "  \n",
        "  Given: two DNA strings (A, C, G, T) s and t of equal length (<= 1kbp).\n",
        "  Return: the hamming distance (the minimum number of symbol substitutions\n",
        "          required to transform one string into the other) between s and t.\n",
        "          \n",
        "  pt_mut = point mutation; corresponding nucleotides differ between s and t.\n",
        "  \"\"\"\n",
        "  return sum(nt1 != nt2 for nt1, nt2 in zip(s,t))"
      ],
      "execution_count": 0,
      "outputs": []
    },
    {
      "cell_type": "code",
      "metadata": {
        "colab_type": "code",
        "id": "0b9V3LBLm3tj",
        "colab": {}
      },
      "source": [
        "#Sample Dataset\n",
        "calc_point_mutation2('GAGCCTACTAACGGGAT','CATCGTAATGACGGCCT')"
      ],
      "execution_count": 0,
      "outputs": []
    },
    {
      "cell_type": "markdown",
      "metadata": {
        "id": "j-qmRXLGg55q",
        "colab_type": "text"
      },
      "source": [
        "*Rhiannon Cameron - [Rosalind Progress Profile](http://rosalind.info/users/cmrn-rhi/)*\n",
        "\n",
        "*Python 3.6*"
      ]
    },
    {
      "cell_type": "markdown",
      "metadata": {
        "id": "HuN1QMZug2fN",
        "colab_type": "text"
      },
      "source": [
        "# Bioinformatics Stronghold\n",
        "Learning bioinformatics and programming through problem solving"
      ]
    },
    {
      "cell_type": "markdown",
      "metadata": {
        "id": "90pldazEhW0K",
        "colab_type": "text"
      },
      "source": [
        "## Counting DNA Libraries\n",
        "\n",
        "\n",
        "\n"
      ]
    },
    {
      "cell_type": "markdown",
      "metadata": {
        "id": "H8RQYwqnjbMb",
        "colab_type": "text"
      },
      "source": [
        "[Problem](http://rosalind.info/problems/dna/)\n",
        "\n",
        "A string is simply an ordered collection of symbols selected from some alphabet and formed into a word; the length of a string is the number of symbols that it contains.\n",
        "\n",
        "An example of a length 21 DNA string (whose alphabet contains the symbols 'A', 'C', 'G', and 'T') is \"ATGCTTCAGAAAGGTCTTACG.\"\n",
        "\n",
        "**Given:** A DNA string s of length at most 1000 nt.\n",
        "\n",
        "**Return:** Four integers (separated by spaces) counting the respective number of times that the symbols 'A', 'C', 'G', and 'T' occur in s.\n",
        "\n",
        "<h4> Sample Dataset </h4>\n",
        "\n",
        "```\n",
        "AGCTTTTCATTCTGACTGCAACGGGCAATATGTCTCTGTGTGGATTAAAAAAAGAGTGTCTGATAGCAGC\n",
        "```\n",
        "\n",
        "<h4> Sample Output </h4>\n",
        "\n",
        "```\n",
        "20 12 17 21\n",
        "```\n"
      ]
    },
    {
      "cell_type": "markdown",
      "metadata": {
        "id": "L9Dkm4q66jQe",
        "colab_type": "text"
      },
      "source": [
        "<h4> Version 1 </h4>"
      ]
    },
    {
      "cell_type": "code",
      "metadata": {
        "id": "UHakkLukknXy",
        "colab_type": "code",
        "colab": {}
      },
      "source": [
        "import collections\n",
        "\n",
        "def dna_nuc_count(dna_string):\n",
        "  \"\"\"\n",
        "  DNA Nucleotide Count\n",
        "  \n",
        "  Given: A DNA string (A, C, G, T) s of length at most 1000 nt.\n",
        "  Return: Four integers (separated by spaces) counting the respective number of\n",
        "          times that symbols 'A','C','G', and 'T' occur in s.\n",
        "  \"\"\"\n",
        "  # ensure incoming data are all uppercase\n",
        "  dna_string.upper()\n",
        "  \n",
        "  # create orderws dictionary to ensure correct output order\n",
        "  dna_dict = collections.OrderedDict()\n",
        "  dna_dict['A'] = 0\n",
        "  dna_dict['C'] = 0\n",
        "  dna_dict['G'] = 0\n",
        "  dna_dict['T'] = 0\n",
        "  \n",
        "  # count nucleotides and store associated count in dictionary\n",
        "  for nucleotide in dna_string:\n",
        "      dna_dict[nucleotide] += 1\n",
        "  \n",
        "  # return nucleotide counts separated by spaces\n",
        "  return ' '.join([str(i) for i in dna_dict.values()])\n",
        "  \n",
        "  \n",
        "  \"\"\"\n",
        "  Alternative Ouput\n",
        "  Returns nucleotide counts separated by spaces; better format for inputing\n",
        "          parameters in future functions. Works with unordered Dictionary.\n",
        "  \n",
        "  \"\"\"\n",
        "  # return dna_dict['A'], dna_dict['C'], dna_dict['G'], dna_dict['T']"
      ],
      "execution_count": 0,
      "outputs": []
    },
    {
      "cell_type": "code",
      "metadata": {
        "id": "93eLqlb1m3gk",
        "colab_type": "code",
        "colab": {}
      },
      "source": [
        "# Sample Dataset Test\n",
        "\n",
        "test_string = 'AGCTTTTCATTCTGACTGCAACGGGCAATATGTCTCTGTGTGGATTAAAAAAAGAGTGTCTGATAGCAGC'\n",
        "dna_nuc_count(test_string)"
      ],
      "execution_count": 0,
      "outputs": []
    },
    {
      "cell_type": "code",
      "metadata": {
        "id": "o8vcGKQDzgCz",
        "colab_type": "code",
        "colab": {}
      },
      "source": [
        "# Dataset Test\n",
        "\n",
        "test_string = 'GAAGGAATGGGCTCATGCTGGTTTGCCCAACGGCTCCTCAACATGAAAGCCTGAAGTACACGTGAGATATATACCATTCCATACGCACCCGCGTACCGGGCATGGGAGTACAACCTGACGGCTCCGGCCGTGAGATCGGGTCATCTTGGCAGTGACACTAGGATGTTACAGGGTTAACGGACAGTTTGAACGCAGCTGTGATGGCGGCGAGCAATGAACTCAATCCATCACGAGTCACCTGGGTTAAACGGAGTATAAAGCTACTTCCGTCGGACTGGTCTTGTGGTCTGAGAAAATTGGATCGTCCGGCGAGACTAGTCCGGTACTCGAGTTAGGGTTCGCATTCCCGGGCTTTCCTCAGAGGGCTCACTACCTAGTGAACTTAGGAAGATCTACTCTGTGCGGCGTGTCAATTAGACAATGCTTTATGGAACGGGGCACTGGACAATTAGTGGTAAAAACTGAATCGCCCCCACGTGAAACTGCTCACGCTACATGCTGAATTGTTAACCCCTATAACAGTCTCTGTCAGGACTAGAACGGCTGGCGATCATATCCGGCGACGACTTTGCTCTCGTTTCAGAGGTATTGATCCTGCAGGCAGAAGGCGACCCCCGATTTTCATTCCTTTCCTGGTGTCATTTTGCTCAATATGGTATGATATAAGGTAGATGCGAATGTGTCTATATGTTGTCGAGCGCGCTTAGCCATTCGGTCACGCGTATTGACCATGGTTCGTCTAGATCATCACCCTCTCATAAGAGGAATGCCCCGGCAAGCAAGGGTGTCGCGTTTAGGGAGACTTTGTTGCCATAGCACGTGGAGAGAGTAAGAGGGGAAGCGCATAAGCGGGTGCTACGACCCGAAGCTGTCTCGGATGGCTATGTATCCTGGGGTAGGGACAGTAGAAAAGCGTGTAATGGCCGATACATCAGTCGCAATCCCGGGGCGTAGCTCTCGATAACTCTCCT'\n",
        "dna_nuc_count(test_string)"
      ],
      "execution_count": 0,
      "outputs": []
    },
    {
      "cell_type": "code",
      "metadata": {
        "id": "7391Ar7aw5ec",
        "colab_type": "code",
        "colab": {}
      },
      "source": [
        "# Dataset Test - From File\n",
        "\n",
        "with open('rosalind_dna.txt') as infile:\n",
        "  test_string = infile.readline()\n",
        "  test_string_clean = test_string.rstrip('\\n')\n",
        "  print(dna_nuc_count(test_string_clean))"
      ],
      "execution_count": 0,
      "outputs": []
    },
    {
      "cell_type": "markdown",
      "metadata": {
        "id": "WGGlbsB96mhE",
        "colab_type": "text"
      },
      "source": [
        "<h4> Version 2 (Better) </h4>"
      ]
    },
    {
      "cell_type": "code",
      "metadata": {
        "id": "uZ8FG99658-M",
        "colab_type": "code",
        "colab": {}
      },
      "source": [
        "def dna_nuc_count2(dna):\n",
        "  \"\"\"\n",
        "  DNA Nucleotide Count v2\n",
        "  \n",
        "  Given: A DNA string (A, C, G, T) s of length at most 1000 nt.\n",
        "  Return: Four integers (separated by spaces) counting the respective number of\n",
        "          times that symbols 'A','C','G', and 'T' occur in s.\n",
        "  \"\"\"\n",
        "  return dna.count(\"A\"), dna.count(\"G\"), dna.count(\"C\"), dna.count(\"T\")"
      ],
      "execution_count": 0,
      "outputs": []
    },
    {
      "cell_type": "markdown",
      "metadata": {
        "id": "BgPTt3l46q-p",
        "colab_type": "text"
      },
      "source": [
        "<h4> Version 3 (Simple) </h4>"
      ]
    },
    {
      "cell_type": "code",
      "metadata": {
        "id": "8D4_tDu-6_o5",
        "colab_type": "code",
        "colab": {}
      },
      "source": [
        "\n",
        "print(*map(input().count, \"ACGT\"))"
      ],
      "execution_count": 0,
      "outputs": []
    },
    {
      "cell_type": "markdown",
      "metadata": {
        "id": "axnALBkR7-Id",
        "colab_type": "text"
      },
      "source": [
        "## Transcribing DNA into RNA\n"
      ]
    },
    {
      "cell_type": "markdown",
      "metadata": {
        "id": "9Hka60fW8FlN",
        "colab_type": "text"
      },
      "source": [
        "[Problem](http://rosalind.info/problems/rna/)\n",
        "\n",
        "An RNA string is a string formed from the alphabet containing 'A', 'C', 'G', and 'U'.\n",
        "\n",
        "Given a DNA string t corresponding to a coding strand, its transcribed RNA string u is formed by replacing all occurrences of 'T' in t with 'U' in u.\n",
        "\n",
        "**Given:** A DNA string t having length at most 1000 nt.\n",
        "\n",
        "**Return:** The transcribed RNA string of t.\n",
        "\n",
        "**Sample Dataset**\n",
        "\n",
        "\n",
        "```\n",
        "GATGGAACTTGACTACGTAAATT\n",
        "```\n",
        "\n",
        "\n",
        "**Sample Output**\n",
        "\n",
        "\n",
        "```\n",
        "GAUGGAACUUGACUACGUAAAUU\n",
        "```\n",
        "\n"
      ]
    },
    {
      "cell_type": "markdown",
      "metadata": {
        "id": "ODcLFD1YFZlg",
        "colab_type": "text"
      },
      "source": [
        "<h4> Version 1 </h4>"
      ]
    },
    {
      "cell_type": "code",
      "metadata": {
        "id": "htX3Hk0eBZKH",
        "colab_type": "code",
        "colab": {}
      },
      "source": [
        "def dna_to_rna(dna_string):\n",
        "  \"\"\"\n",
        "  Given: a DNA string (A, C, G, T), having length of at most 1000 nt.\n",
        "  Return: the transcribed RNA (A, C, G, U) string.\n",
        "  \n",
        "  \"\"\"\n",
        "  rna_string = ''\n",
        "  \n",
        "  for nucleotide in dna_string:\n",
        "    if nucleotide == 'T':\n",
        "      rna_string += 'U'\n",
        "    else:\n",
        "      rna_string += nucleotide\n",
        "      \n",
        "  return rna_string"
      ],
      "execution_count": 0,
      "outputs": []
    },
    {
      "cell_type": "code",
      "metadata": {
        "id": "gLb2A__wDA5u",
        "colab_type": "code",
        "colab": {}
      },
      "source": [
        "# Sample Dataset Test\n",
        "\n",
        "test_string = 'GATGGAACTTGACTACGTAAATT'\n",
        "dna_to_rna(test_string)"
      ],
      "execution_count": 0,
      "outputs": []
    },
    {
      "cell_type": "code",
      "metadata": {
        "id": "oYVcp_sODRlA",
        "colab_type": "code",
        "colab": {}
      },
      "source": [
        "# Dataset Test\n",
        "\n",
        "dna_to_rna(input())"
      ],
      "execution_count": 0,
      "outputs": []
    },
    {
      "cell_type": "markdown",
      "metadata": {
        "id": "7GcOiUHVFpcO",
        "colab_type": "text"
      },
      "source": [
        "<h4> Version 2 </h4>"
      ]
    },
    {
      "cell_type": "code",
      "metadata": {
        "id": "JSl4lxkDE9nW",
        "colab_type": "code",
        "colab": {}
      },
      "source": [
        "# User Input\n",
        "\n",
        "dna_string = input()\n",
        "print(dna_string.replace(\"T\", \"U\"))"
      ],
      "execution_count": 0,
      "outputs": []
    },
    {
      "cell_type": "code",
      "metadata": {
        "id": "Ru8BHjyDGUom",
        "colab_type": "code",
        "outputId": "2367c8a9-cc74-47cf-f208-1db10153cc89",
        "colab": {
          "base_uri": "https://localhost:8080/",
          "height": 71
        }
      },
      "source": [
        "# From File\n",
        "\n",
        "with open('rosalind_rna.txt') as infile:\n",
        "  print(infile.read().replace(\"T\", \"U\"))"
      ],
      "execution_count": 0,
      "outputs": [
        {
          "output_type": "stream",
          "text": [
            "UAUUUGCUAACCAUAGACCGAGAAGUCAACAAAUCGUGAAGCGUGACUAUUUCGGGCGCUACUUCACCCCGACGCCCGGCAUUUCACGCUUGGUGUGUACUACCACGGGGCCGCGGCGGAAUCCCACGCGGAGCUAACCCGUUGGGAUCAUGCAUGCGCCUCUCGGUGGUCAACGGAUGAACUAGUACACCGUCGACGUAAACAAGCUUAUCGCUACCUGGAGGAUUACUGCUGAACUAGUAAACCGGUACCCGGUAAGCCGAAUGCCUGUGAUCGAUGAGUUCUGGGUGUGCAGGAAGUACAUCGGUUAAAGUCUUGGCAGACAACUACCUUAUUUGUCCCCCAGGUGGAAUUACGAGGUGAGGCACUGACGGUAUAACAAGGAAGAGCAAUCAUUUUACACCGGACCUGUGGCCAACACCAAGGCACAGCAGUAUGCGGGAAUGACGCAAAGUCUUUGCACGAGACGGGCAAGCAGUGGCUGUAAAGUUGGACACAGUUGACUACAUUAGAGAUCUAAUACGCGUUCCAUAUCCGACUGGAGCUGGCUAAACAGGUAGAACACAUCGGCCAUUAGCAGAAGCUGUUGAAUUUGGAUCUAAUCCAAAACUAAACUCCAGUUAUGAACUCCCAAAUGAACACAACUCUCGGCGCCCAGUAGAAAUUCGUGCCUCAUUGUUCGGCGCUUGGUACACGUCGGGGCCUGGUGAGUAGUAUAGAUUUGCGCUCGUACAUUACUUCCCGCGCCGCGGGGAGAGUUUUAAAACGUGGUCUACUUGGGAUCUGAGCCUGAUAUGAAAUGGGAGAUGACAUCAGUGUACGGCGCAGCCGCACACGUCAGAAACGAAUAACUUUUUCGUAGCGCCAUUUGCCAAAGGGCUGAUUGUUGAUUGAGGAGCUCAAUCGUAUUGUAAGUCACUUGACAGCCCCUGCCUCUGGA\n",
            "\n"
          ],
          "name": "stdout"
        }
      ]
    },
    {
      "cell_type": "markdown",
      "metadata": {
        "id": "dl2frkH3F9Ge",
        "colab_type": "text"
      },
      "source": [
        "<h4> Version - Bash </h4>\n",
        "\n",
        "`tr T U < rosalind_rna.txt`"
      ]
    },
    {
      "cell_type": "markdown",
      "metadata": {
        "id": "O1Awf-x9G9wZ",
        "colab_type": "text"
      },
      "source": [
        "## Complementing a Strand of DNA"
      ]
    },
    {
      "cell_type": "markdown",
      "metadata": {
        "id": "J1ETi4Z3HRT-",
        "colab_type": "text"
      },
      "source": [
        "[Problem](http://rosalind.info/problems/revc/)\n",
        "\n",
        "In DNA strings, symbols 'A' and 'T' are complements of each other, as are 'C' and 'G'.\n",
        "\n",
        "The reverse complement of a DNA string s is the string sc formed by reversing the symbols of s, then taking the complement of each symbol (e.g., the reverse complement of \"GTCA\" is \"TGAC\").\n",
        "\n",
        "**Given:** A DNA string s of length at most 1000 bp.\n",
        "\n",
        "**Return:** The reverse complement sc of s.\n",
        "\n",
        "**Sample Dataset**\n",
        "\n",
        "\n",
        "```\n",
        "AAAACCCGGT\n",
        "```\n",
        "\n",
        "\n",
        "**Sample Output**\n",
        "\n",
        "\n",
        "```\n",
        "ACCGGGTTTT\n",
        "```\n",
        "\n"
      ]
    },
    {
      "cell_type": "markdown",
      "metadata": {
        "id": "oXhAFqoHNDJ5",
        "colab_type": "text"
      },
      "source": [
        "<h4> Version 1 </h4>"
      ]
    },
    {
      "cell_type": "code",
      "metadata": {
        "id": "Vk6jmw8jHTDS",
        "colab_type": "code",
        "colab": {}
      },
      "source": [
        "def dna_rev_comp(dna_str):\n",
        "  \"\"\"\n",
        "  DNA Reverse Complement\n",
        "  \n",
        "  Given: a DNA string (A, C, G, T) of length at most 1000 bp.\n",
        "  Return: the reverse complement (rev_comp) of the DNA string.\n",
        "  \"\"\"\n",
        "  \n",
        "  # t & c temporarily hold positions; t will become T and c will become C\n",
        "  temp_str = dna_str.replace(\"A\", \"t\").replace(\"G\", \"c\")\n",
        "  temp_str2 = temp_str.replace(\"T\", \"A\").replace(\"C\", \"G\")\n",
        "  comp_str = temp_str2.replace(\"t\", \"T\").replace(\"c\", \"C\")\n",
        "  \n",
        "  return comp_str[::-1]"
      ],
      "execution_count": 0,
      "outputs": []
    },
    {
      "cell_type": "code",
      "metadata": {
        "id": "eEUNujRuKJIg",
        "colab_type": "code",
        "colab": {}
      },
      "source": [
        "# Sample Dataset Test\n",
        "\n",
        "test_string = 'AAAACCCGGT'\n",
        "dna_rev_comp(test_string)"
      ],
      "execution_count": 0,
      "outputs": []
    },
    {
      "cell_type": "code",
      "metadata": {
        "id": "Y93bAOn7I0OI",
        "colab_type": "code",
        "colab": {}
      },
      "source": [
        "# From File\n",
        "\n",
        "with open('rosalind_revc.txt') as infile:\n",
        "  print(dna_rev_comp(infile.read()))"
      ],
      "execution_count": 0,
      "outputs": []
    },
    {
      "cell_type": "markdown",
      "metadata": {
        "id": "_zy1u-4qNHto",
        "colab_type": "text"
      },
      "source": [
        "<h4> Version 2 (Better) </h4>"
      ]
    },
    {
      "cell_type": "code",
      "metadata": {
        "id": "UzzwRwxNNMHw",
        "colab_type": "code",
        "colab": {}
      },
      "source": [
        "def dna_rev_comp2(dna_str):\n",
        "  \"\"\"\n",
        "  DNA Reverse Complement v2\n",
        "  \n",
        "  Given: a DNA string (A, C, G, T) of length at most 1000 bp.\n",
        "  Return: the reverse complement (rev_comp) of the DNA string.\n",
        "  \"\"\"\n",
        "  \n",
        "  # t & c temporarily hold positions; t will become T and c will become C\n",
        "  comp_str = dna_str.replace(\"A\", \"t\").replace(\"G\", \"c\").replace(\"T\", \"A\")\\\n",
        "             .replace(\"C\", \"G\").replace(\"t\", \"T\").replace(\"c\", \"C\")\n",
        "  \n",
        "  return comp_str[::-1]"
      ],
      "execution_count": 0,
      "outputs": []
    },
    {
      "cell_type": "markdown",
      "metadata": {
        "id": "RQTumX4_N2MW",
        "colab_type": "text"
      },
      "source": [
        "<h4> Version 3 (Best) </h4>"
      ]
    },
    {
      "cell_type": "code",
      "metadata": {
        "id": "zIE2eKnAN46f",
        "colab_type": "code",
        "colab": {}
      },
      "source": [
        "def dna_rev_comp3(dna_str):\n",
        "  \"\"\"\n",
        "  DNA Reverse Complement v3\n",
        "  \n",
        "  Given: a DNA string (A, C, G, T) of length at most 1000 bp.\n",
        "  Return: the reverse complement (rev_comp) of the DNA string.\n",
        "  \"\"\"\n",
        "  comp_str = { \"A\" : \"T\", \"C\" : \"G\", \"G\" : \"C\", \"T\" : \"A\" }\n",
        "\n",
        "  return \"\".join([comp_str[n] for n in dna_str][::-1])"
      ],
      "execution_count": 0,
      "outputs": []
    },
    {
      "cell_type": "markdown",
      "metadata": {
        "id": "2U2BAeAnLyxo",
        "colab_type": "text"
      },
      "source": [
        "## Rabbits & Recurrence Relations"
      ]
    },
    {
      "cell_type": "markdown",
      "metadata": {
        "id": "neKfDXuXL7KN",
        "colab_type": "text"
      },
      "source": [
        "[Problem](http://rosalind.info/problems/fib/)\n",
        "\n",
        "A sequence is an ordered collection of objects (usually numbers), which are allowed to repeat. Sequences can be finite or infinite.\n",
        "\n",
        "A recurrence relation is a way of defining the terms of a sequence with respect to the values of previous terms. In the case of Fibonacci's rabbits from the introduction, any given month will contain the rabbits that were alive the previous month, plus any new offspring. A key observation is that the number of offspring in any month is equal to the number of rabbits that were alive two months prior. As a result, if Fn represents the number of rabbit pairs alive after the n-th month, then we obtain the Fibonacci sequence having terms Fn that are defined by the recurrence relation Fn=Fn−1+Fn−2 (with F1=F2=1 to initiate the sequence).\n",
        "\n",
        "When finding the n-th term of a sequence defined by a recurrence relation, we can simply use the recurrence relation to generate terms for progressively larger values of n. This problem introduces us to the computational technique of dynamic programming, which successively builds up solutions by using the answers to smaller cases.\n",
        "\n",
        "**Given:** Positive integers n≤40 and k≤5.\n",
        "\n",
        "**Return:** The total number of rabbit pairs that will be present after n months, if we begin with 1 pair and in each generation, every pair of reproduction-age rabbits produces a litter of k rabbit pairs (instead of only 1 pair).\n",
        "\n",
        "**Sample Dataset**\n",
        "\n",
        "\n",
        "```\n",
        "5 3\n",
        "```\n",
        "\n",
        "\n",
        "**Sample Output**\n",
        "\n",
        "\n",
        "```\n",
        "19\n",
        "```\n",
        "\n"
      ]
    },
    {
      "cell_type": "code",
      "metadata": {
        "id": "jYKOhcEKM6aW",
        "colab_type": "code",
        "colab": {}
      },
      "source": [
        "def fib_recur(n, k):\n",
        "  \"\"\"\n",
        "  Fibonacci Recursion\n",
        "  \n",
        "  Given: Positive integers n <= 40 and K <= 5\n",
        "    n = months\n",
        "    k = rabbit pairs\n",
        "  Return: the total number of rabbit pairs that will be present after n months,\n",
        "          if we begin with 1 pair and in each generation, every pair of \n",
        "          reproduction-age rabbits produces a litter of k rabbits.\n",
        "  \"\"\"\n",
        "  # Case for when pair matures and is not yet producing offspring\n",
        "  if n == 0 or n == 1:\n",
        "    return n\n",
        "  # Case for when mature pair produces offspring, adjusted for k\n",
        "  else:\n",
        "    return fib_recur(n-1, k) + fib_recur(n-2, k)*k\n",
        " "
      ],
      "execution_count": 0,
      "outputs": []
    },
    {
      "cell_type": "code",
      "metadata": {
        "id": "HTGvlC6HRhB6",
        "colab_type": "code",
        "outputId": "d1063adb-cb40-4f8a-d475-a98144a12d0a",
        "colab": {
          "base_uri": "https://localhost:8080/",
          "height": 34
        }
      },
      "source": [
        "fib_recur(29, 5)"
      ],
      "execution_count": 0,
      "outputs": [
        {
          "output_type": "execute_result",
          "data": {
            "text/plain": [
              "1850229480761"
            ]
          },
          "metadata": {
            "tags": []
          },
          "execution_count": 41
        }
      ]
    },
    {
      "cell_type": "markdown",
      "metadata": {
        "colab_type": "text",
        "id": "biyk7bhqm3LS"
      },
      "source": [
        "## Computing GC Content"
      ]
    },
    {
      "cell_type": "markdown",
      "metadata": {
        "colab_type": "text",
        "id": "Djoyajjvm3LR"
      },
      "source": [
        "[Problem](http://rosalind.info/problems/gc/)\n",
        "\n",
        "The GC-content of a DNA string is given by the percentage of symbols in the string that are 'C' or 'G'. For example, the GC-content of \"AGCTATAG\" is 37.5%. Note that the reverse complement of any DNA string has the same GC-content.\n",
        "\n",
        "DNA strings must be labeled when they are consolidated into a database. A commonly used method of string labeling is called FASTA format. In this format, the string is introduced by a line that begins with '>', followed by some labeling information. Subsequent lines contain the string itself; the first line to begin with '>' indicates the label of the next string.\n",
        "\n",
        "In Rosalind's implementation, a string in FASTA format will be labeled by the ID \"Rosalind_xxxx\", where \"xxxx\" denotes a four-digit code between 0000 and 9999.\n",
        "\n",
        "Given: At most 10 DNA strings in FASTA format (of length at most 1 kbp each).\n",
        "\n",
        "Return: The ID of the string having the highest GC-content, followed by the GC-content of that string. Rosalind allows for a default error of 0.001 in all decimal answers unless otherwise stated; please see the note on absolute error below.\n",
        "\n",
        "**Sample Dataset**\n",
        "\n",
        "\n",
        "```\n",
        ">Rosalind_6404\n",
        "CCTGCGGAAGATCGGCACTAGAATAGCCAGAACCGTTTCTCTGAGGCTTCCGGCCTTCCC\n",
        "TCCCACTAATAATTCTGAGG\n",
        ">Rosalind_5959\n",
        "CCATCGGTAGCGCATCCTTAGTCCAATTAAGTCCCTATCCAGGCGCTCCGCCGAAGGTCT\n",
        "ATATCCATTTGTCAGCAGACACGC\n",
        ">Rosalind_0808\n",
        "CCACCCTCGTGGTATGGCTAGGCATTCAGGAACCGGAGAACGCTTCAGACCAGCCCGGAC\n",
        "TGGGAACCTGCGGGCAGTAGGTGGAAT\n",
        "```\n",
        "\n",
        "\n",
        "**Sample Output**\n",
        "\n",
        "\n",
        "\n",
        "```\n",
        "Rosalind_0808\n",
        "60.919540\n",
        "```\n",
        "\n"
      ]
    },
    {
      "cell_type": "markdown",
      "metadata": {
        "colab_type": "text",
        "id": "kf_guR9Pm3LQ"
      },
      "source": [
        "<h4> Version 1 - BioPython </h4>"
      ]
    },
    {
      "cell_type": "code",
      "metadata": {
        "colab_type": "code",
        "id": "okpt497Im3LO",
        "colab": {}
      },
      "source": [
        "# install BioPython (includes NumPy).\n",
        "!pip install biopython"
      ],
      "execution_count": 0,
      "outputs": []
    },
    {
      "cell_type": "code",
      "metadata": {
        "colab_type": "code",
        "id": "H509TMV6m3LL",
        "colab": {}
      },
      "source": [
        "# import Bio SeqIO package from BioPython.\n",
        "from Bio import SeqIO\n",
        "\n",
        "def gc_content_greatest(dna_strings):\n",
        "  \"\"\"\n",
        "  Computing Greatest GC Content\n",
        "  \n",
        "  Given: file containing <= 10 DNA strings (A, C, G, T), FASTA format,\n",
        "         length <= 1kbp/string.\n",
        "  Return: DNA string ID with the highest GC content, followed by the GC content\n",
        "          of that string. Default error of 0.001.\n",
        "          \n",
        "  nt_count = total nucleotide count of DNA string.\n",
        "  gc_count = total GC nucleotide counts of DNA string.\n",
        "  gc_percent = GC content; percent of nucleotides in DNA string that are G+C.\n",
        "  gc_greatest = DNA string with the highest GC content percent.\n",
        "  id_greatest = ID for DNA string with the highest GC content percent.\n",
        "  \"\"\"\n",
        "  gc_greatest = 0\n",
        "  \n",
        "  for seq_record in SeqIO.parse(dna_strings, \"fasta\"):\n",
        "    nt_count = len(seq_record)\n",
        "    gc_count = 0  \n",
        "\n",
        "    for nt in seq_record.seq:\n",
        "      if nt == 'G' or nt == 'C':\n",
        "        gc_count += 1\n",
        "\n",
        "    gc_percent = (gc_count/nt_count)*100\n",
        "\n",
        "    # store/update record of ID and GC% of sequence with greatest GC%\n",
        "    if gc_greatest < gc_percent:\n",
        "      gc_greatest = gc_percent\n",
        "      id_greatest = seq_record.id\n",
        "\n",
        "  print(id_greatest)\n",
        "  print(round(gc_greatest, 3)) "
      ],
      "execution_count": 0,
      "outputs": []
    },
    {
      "cell_type": "code",
      "metadata": {
        "colab_type": "code",
        "id": "_pyCJn7lm3LJ",
        "colab": {}
      },
      "source": [
        "gc_content_greatest(\"rosalind_gc.fasta\")"
      ],
      "execution_count": 0,
      "outputs": []
    },
    {
      "cell_type": "markdown",
      "metadata": {
        "colab_type": "text",
        "id": "ISzRr4-8m3LF"
      },
      "source": [
        "**Version 2 - BioPython (Best)**\n",
        "\n",
        "*Be sure to install package using first code block from Version 1.*"
      ]
    },
    {
      "cell_type": "code",
      "metadata": {
        "colab_type": "code",
        "id": "OquEgnVtm3LA",
        "colab": {}
      },
      "source": [
        "# import Bio SeqIO package from BioPython.\n",
        "from Bio import SeqIO\n",
        "# import GC function: calculates G+C content, returns percentage as float.\n",
        "from Bio.SeqUtils import GC\n",
        "\n",
        "def gc_content_greatest2(dna_strings):\n",
        "  \"\"\"\n",
        "  Computing Greatest GC Content\n",
        "  \n",
        "  Given: file containing <= 10 DNA strings (A, C, G, T), FASTA format, length\n",
        "          <= 1kbp/string.\n",
        "  Return: DNA string ID with the highest GC content, followed by the GC content\n",
        "          of that string. Default error of 0.001.\n",
        "          \n",
        "  gc_greatest = DNA string with the highest GC content percent.\n",
        "  id_greatest = ID for DNA string with the highest GC content percent.\n",
        "  \"\"\"\n",
        "\n",
        "  gc_greatest = 0\n",
        "  id_greatest = \"\"\n",
        "\n",
        "  with open(dna_strings, 'r') as infile:\n",
        "\n",
        "    for record in SeqIO.parse(infile, \"fasta\"):\n",
        "        if gc_greatest < GC(record.seq):\n",
        "            gc_greatest = GC(record.seq)\n",
        "            id_greatest = record.id\n",
        "\n",
        "  print(id_greatest)\n",
        "  print(round(gc_greatest,3))"
      ],
      "execution_count": 0,
      "outputs": []
    },
    {
      "cell_type": "code",
      "metadata": {
        "colab_type": "code",
        "id": "9z17pCBHm3K8",
        "colab": {}
      },
      "source": [
        "gc_content_greatest2(\"rosalind_gc.fasta\")"
      ],
      "execution_count": 0,
      "outputs": []
    },
    {
      "cell_type": "markdown",
      "metadata": {
        "colab_type": "text",
        "id": "cqigHsiFm3K6"
      },
      "source": [
        "**Version 3 (Python Only)**"
      ]
    },
    {
      "cell_type": "code",
      "metadata": {
        "colab_type": "code",
        "id": "wj9oCjbQm3K1",
        "colab": {}
      },
      "source": [
        "def gc_content_greatest3(dna_strings):\n",
        "  \"\"\"\n",
        "  Computing Greatest GC Content\n",
        "  \n",
        "  Given: file containing <= 10 DNA strings (A, C, G, T), FASTA format, \n",
        "         length <= 1kbp/string.\n",
        "  Return: DNA string ID with the highest GC-content, followed by the GC-content\n",
        "          of that string. Default error of 0.001.\n",
        "          \n",
        "  gc_dict = dictionary where DNA string IDs are stored as keys while associated\n",
        "            DNA string GC content is stored as values.\n",
        "  gc_percent = GC content; percent of nucleotides in DNA string that are GC.\n",
        "  seq_id = DNA string ID.\n",
        "  \"\"\"\n",
        "   \n",
        "  with open(dna_strings, 'r') as infile:\n",
        "    data = infile.read()\n",
        "    gc_dict = {}\n",
        "    \n",
        "    # iterate over sequence blocks; beginning indicated by '>'\n",
        "    for block in data.split(\">\")[1:]: \n",
        "        \n",
        "        # split data at newline; [0] is ID while [1:] is DNA string.\n",
        "        parts = block.split(\"\\n\")      \n",
        "        # assign sequence ID\n",
        "        seq_id = parts[0]  \n",
        "        # join all sequence strings into one string\n",
        "        seq = ''.join(parts[1:])\n",
        "        gc_percent = 100 * ( seq.count(\"G\") + seq.count(\"C\") ) / float(len(seq))\n",
        "        # insert sequence ID and associated GC content into dictionary\n",
        "        gc_dict[gc_percent] = seq_id\n",
        "        \n",
        "  print(gc_dict[max(gc_dict)])\n",
        "  print(round(max(gc_dict), 3))"
      ],
      "execution_count": 0,
      "outputs": []
    },
    {
      "cell_type": "code",
      "metadata": {
        "colab_type": "code",
        "id": "XxWgDZ6am3Kt",
        "colab": {}
      },
      "source": [
        "gc_content_greatest3(\"rosalind_gc.txt\")"
      ],
      "execution_count": 0,
      "outputs": []
    }
  ]
}